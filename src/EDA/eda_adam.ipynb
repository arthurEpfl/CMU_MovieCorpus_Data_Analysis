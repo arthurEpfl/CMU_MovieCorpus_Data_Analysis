{
 "cells": [
  {
   "cell_type": "code",
   "execution_count": 1,
   "metadata": {},
   "outputs": [],
   "source": [
    "import pandas as pd\n",
    "import re\n",
    "import ast\n",
    "import matplotlib.pyplot as plt\n",
    "import seaborn as sns"
   ]
  },
  {
   "cell_type": "markdown",
   "metadata": {},
   "source": [
    "# Data Preprocessing"
   ]
  },
  {
   "cell_type": "markdown",
   "metadata": {},
   "source": [
    "Import the data"
   ]
  },
  {
   "cell_type": "code",
   "execution_count": 2,
   "metadata": {},
   "outputs": [],
   "source": [
    "movies = pd.read_csv('../../data/MovieSummaries/movie.metadata.tsv', sep='\\t', header=None)\n",
    "characters = pd.read_csv('../../data//MovieSummaries/character.metadata.tsv', sep = '\\t', header = None)\n",
    "\n",
    "# Importing txt files\n",
    "name_clusters = pd.read_csv('../../data//MovieSummaries/name.clusters.txt', sep = '\\t', header = None)\n",
    "summaries = pd.read_csv('../../data//MovieSummaries/plot_summaries.txt', sep = '\\t', header = None)\n",
    "tv_tropes = pd.read_csv('../../data//MovieSummaries/tvtropes.clusters.txt', sep = '\\t', header = None)"
   ]
  },
  {
   "cell_type": "markdown",
   "metadata": {},
   "source": [
    "We inspect the content of each dataframe"
   ]
  },
  {
   "cell_type": "code",
   "execution_count": null,
   "metadata": {},
   "outputs": [],
   "source": [
    "movies.sample(5)"
   ]
  },
  {
   "cell_type": "code",
   "execution_count": null,
   "metadata": {},
   "outputs": [],
   "source": [
    "characters.sample(5)"
   ]
  },
  {
   "cell_type": "code",
   "execution_count": null,
   "metadata": {},
   "outputs": [],
   "source": [
    "name_clusters.sample(5)"
   ]
  },
  {
   "cell_type": "code",
   "execution_count": null,
   "metadata": {},
   "outputs": [],
   "source": [
    "summaries.sample(5)"
   ]
  },
  {
   "cell_type": "code",
   "execution_count": null,
   "metadata": {},
   "outputs": [],
   "source": [
    "tv_tropes.sample(5)"
   ]
  },
  {
   "cell_type": "markdown",
   "metadata": {},
   "source": [
    "We see that the data files do not contain the column names. We add them according to the column described in the README."
   ]
  },
  {
   "cell_type": "code",
   "execution_count": 8,
   "metadata": {},
   "outputs": [],
   "source": [
    "movies.columns = ['wikipedia_movie_id', 'freebase_movie_id', 'movie_name', 'movie_release_date', 'movie_box_office_revenue', 'movie_runtime', 'movie_languages', 'movie_countries', 'movie_genres']\n",
    "name_clusters.columns = ['name', 'freebase_movie_id']\n",
    "summaries.columns = ['wikipedia_movie_id', 'plot_summary']\n",
    "characters.columns = ['wikipedia_movie_id', 'freebase_movie_id', 'movie_release_date', 'character_name', 'actor_birth', 'actor_gender', 'actor_height', 'actor_ethnicity', 'actor_name', 'actor_age', 'freebase_character_map', 'freebase_character_id', 'freebase_actor_id']\n"
   ]
  },
  {
   "cell_type": "markdown",
   "metadata": {},
   "source": [
    "For the movies dataframe, we notice that for the languages, genres and countries we have dictionaries with freebase ids. We uniformize it into lists."
   ]
  },
  {
   "cell_type": "code",
   "execution_count": null,
   "metadata": {},
   "outputs": [],
   "source": [
    "# list of unique entries in column countries\n",
    "movies['movie_countries'].unique()"
   ]
  },
  {
   "cell_type": "code",
   "execution_count": 10,
   "metadata": {},
   "outputs": [],
   "source": [
    "# Function to extract from a dict to a list\n",
    "def extract_dict_to_list(entry):\n",
    "    # Convert the string representation of the dictionary to an actual dictionary\n",
    "    entry_dict = ast.literal_eval(entry)\n",
    "    # Extract the country names (values) from the dictionary\n",
    "    return list(entry_dict.values())\n",
    "\n",
    "movies['movie_countries'] = movies['movie_countries'].apply(extract_dict_to_list)\n",
    "movies['movie_genres'] = movies['movie_genres'].apply(extract_dict_to_list)\n",
    "movies['movie_languages'] = movies['movie_languages'].apply(extract_dict_to_list)"
   ]
  },
  {
   "cell_type": "code",
   "execution_count": null,
   "metadata": {},
   "outputs": [],
   "source": [
    "movies.sample(5)"
   ]
  },
  {
   "cell_type": "code",
   "execution_count": null,
   "metadata": {},
   "outputs": [],
   "source": [
    "# We check for duplicates\n",
    "print(\"number of duplicated according to Wikipedia id : \", movies['wikipedia_movie_id'].duplicated().sum())\n",
    "print(\"number of duplicated according to freebase movie id : \", movies['freebase_movie_id'].duplicated().sum())\n",
    "print(\"number of duplicated according to title of the movie : \", movies['movie_name'].duplicated().sum())\n",
    "\n",
    "# We investigate further to see why some movies have the same name\n",
    "movies[movies['movie_name'].duplicated(keep=False)].sort_values('movie_name')\n",
    "\n",
    "# We see that the movies with the same name have not the same release date, so we can keep them as they are. They are likely representing different version of the same movie."
   ]
  },
  {
   "cell_type": "markdown",
   "metadata": {},
   "source": [
    "We convert the dates into a unique format : datetime format. Also we noticed previously that some date have only the year. We decide to keep only the year as we will only perform yearly analysis."
   ]
  },
  {
   "cell_type": "code",
   "execution_count": null,
   "metadata": {},
   "outputs": [],
   "source": [
    "# Function to extract the release year from the date\n",
    "def extract_release_year(date_str):\n",
    "    try:\n",
    "        # Attempt to extract the year from the 'YYYY-MM-DD' format\n",
    "        return pd.to_datetime(date_str).year\n",
    "    except (ValueError, TypeError):\n",
    "        try:\n",
    "            # Attempt to extract the year from 'YYYY' format\n",
    "            return int(date_str)\n",
    "        except ValueError:\n",
    "            return None  # Return None for invalid or missing dates\n",
    "\n",
    "movies['movie_release_date'] = movies['movie_release_date'].apply(extract_release_year)\n",
    "characters['actor_birth'] = characters['actor_birth'].apply(extract_release_year)"
   ]
  },
  {
   "cell_type": "code",
   "execution_count": null,
   "metadata": {},
   "outputs": [],
   "source": [
    "movies.movie_release_date.describe()"
   ]
  },
  {
   "cell_type": "markdown",
   "metadata": {},
   "source": [
    "# Data Exploration"
   ]
  },
  {
   "cell_type": "markdown",
   "metadata": {},
   "source": [
    "We see few NaNs in the dataframes."
   ]
  },
  {
   "cell_type": "code",
   "execution_count": null,
   "metadata": {},
   "outputs": [],
   "source": [
    "print((movies.isna().sum() / movies.shape[0]) * 100)\n",
    "\n",
    "# in movie_language, movie_genre and movie_countries, we check the percentage of empty lists\n",
    "print(\"Percentage of empty languages: \", (movies['movie_languages'].apply(len) == 0).sum() / movies.shape[0] * 100)\n",
    "print(\"Percentage of empty genres: \", (movies['movie_genres'].apply(len) == 0).sum() / movies.shape[0] * 100)\n",
    "print(\"Percentage of empty countries: \", (movies['movie_countries'].apply(len) == 0).sum() / movies.shape[0] * 100)"
   ]
  },
  {
   "cell_type": "markdown",
   "metadata": {},
   "source": [
    "We see that we have a considerable amount of missing values. The most shocking column is the box office revenue. Indeed, since almost 90% of this data is missing, it is hard to impute this feature, and keeping it in the dataset might add noise.  \n",
    "\n",
    "We still impute values for the movie runtime, and release year."
   ]
  },
  {
   "cell_type": "code",
   "execution_count": null,
   "metadata": {},
   "outputs": [],
   "source": [
    "# Create a figure with subplots (2x2 layout)\n",
    "fig, axes = plt.subplots(2, 2, figsize=(12, 10))\n",
    "\n",
    "# Plot distribution of movie runtime\n",
    "sns.histplot(movies['movie_runtime'].dropna(), kde=True, ax=axes[0, 0], color='blue')\n",
    "axes[0, 0].set_title('Distribution of Movie Runtime')\n",
    "axes[0, 0].set_xlabel('Runtime (minutes)')\n",
    "\n",
    "# Boxplot for movie runtime\n",
    "sns.boxplot(x=movies['movie_runtime'].dropna(), ax=axes[0, 1], color='blue')\n",
    "axes[0, 1].set_title('Boxplot of Movie Runtime')\n",
    "\n",
    "# Plot distribution of release year\n",
    "sns.histplot(movies['movie_release_date'].dropna(), kde=True, ax=axes[1, 0], color='green')\n",
    "axes[1, 0].set_title('Distribution of Movie Release Year')\n",
    "axes[1, 0].set_xlabel('Release Year')\n",
    "\n",
    "# Boxplot for movie release year\n",
    "sns.boxplot(x=movies['movie_release_date'].dropna(), ax=axes[1, 1], color='green')\n",
    "axes[1, 1].set_title('Boxplot of Movie Release Year')\n",
    "\n",
    "# Adjust layout for better appearance\n",
    "plt.tight_layout()\n",
    "\n",
    "# Show the plots\n",
    "plt.show()"
   ]
  },
  {
   "cell_type": "code",
   "execution_count": null,
   "metadata": {},
   "outputs": [],
   "source": []
  }
 ],
 "metadata": {
  "kernelspec": {
   "display_name": "ada",
   "language": "python",
   "name": "python3"
  },
  "language_info": {
   "codemirror_mode": {
    "name": "ipython",
    "version": 3
   },
   "file_extension": ".py",
   "mimetype": "text/x-python",
   "name": "python",
   "nbconvert_exporter": "python",
   "pygments_lexer": "ipython3",
   "version": "3.11.9"
  }
 },
 "nbformat": 4,
 "nbformat_minor": 2
}
