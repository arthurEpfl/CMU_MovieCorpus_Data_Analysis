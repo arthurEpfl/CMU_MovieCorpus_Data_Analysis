{
 "cells": [
  {
   "cell_type": "code",
   "execution_count": 3,
   "metadata": {},
   "outputs": [],
   "source": [
    "import kagglehub\n",
    "import pandas as pd\n",
    "import os\n",
    "import pandas as pd\n",
    "import numpy as np"
   ]
  },
  {
   "cell_type": "code",
   "execution_count": 4,
   "metadata": {},
   "outputs": [
    {
     "name": "stdout",
     "output_type": "stream",
     "text": [
      "Dataset saved to: data/raw/imdb_5000_movies.csv\n"
     ]
    }
   ],
   "source": [
    "# Download the dataset from kaggle\n",
    "ds_movies = kagglehub.dataset_download(\"carolzhangdc/imdb-5000-movie-dataset\")\n",
    "df_movies = pd.read_csv(os.path.join(ds_movies, \"movie_metadata.csv\"))\n",
    "\n",
    "# Save to local repository\n",
    "local_path = \"../data/raw/imdb_5000_movies.csv\"\n",
    "os.makedirs(os.path.dirname(local_path), exist_ok=True)\n",
    "df_movies.to_csv(local_path, index=False)\n",
    "\n",
    "print(f\"Dataset saved to: {local_path}\")"
   ]
  },
  {
   "cell_type": "code",
   "execution_count": 5,
   "metadata": {},
   "outputs": [],
   "source": [
    "# Load movies from corpus\n",
    "movies = pd.read_csv('../data/MovieSummaries/movie.metadata.tsv', sep='\\t', header=None)\n",
    "movies.columns = ['wikipedia_movie_id', 'freebase_movie_id', 'movie_name', 'movie_release_date', 'movie_box_office_revenue', 'movie_runtime', 'movie_languages', 'movie_countries', 'movie_genres']"
   ]
  },
  {
   "cell_type": "code",
   "execution_count": 7,
   "metadata": {},
   "outputs": [],
   "source": [
    "# Load IMDB\n",
    "imdb_movies = pd.read_csv('../data/raw/imdb_5000_movies.csv')\n",
    "imdb_movies['movie_title'] = imdb_movies['movie_title'].str.strip().str.replace(u'\\xa0', '')\n",
    "imdb_movies = imdb_movies[['movie_title', 'gross']]\n",
    "\n",
    "# Convert 'gross' to numeric pour fill les empty values après\n",
    "imdb_movies['gross'] = pd.to_numeric(imdb_movies['gross'], errors='coerce')\n",
    "imdb_movies = imdb_movies.dropna(subset=['gross'])"
   ]
  },
  {
   "cell_type": "code",
   "execution_count": 10,
   "metadata": {},
   "outputs": [],
   "source": [
    "# Convert 'movie_box_office_revenue' to numeric, handling missing values\n",
    "movies['movie_box_office_revenue'] = pd.to_numeric(movies['movie_box_office_revenue'], errors='coerce')\n",
    "\n",
    "# Merge the two DataFrames on movie name/title\n",
    "merged_movies = pd.merge(\n",
    "    movies, imdb_movies,\n",
    "    left_on='movie_name', right_on='movie_title',\n",
    "    how='left'\n",
    ")\n",
    "\n",
    "# Update 'movie_box_office_revenue' where it's NaN with 'gross' from IMDB\n",
    "merged_movies['movie_box_office_revenue'] = merged_movies['movie_box_office_revenue'].fillna(merged_movies['gross'])\n",
    "merged_movies.drop(columns=['movie_title', 'gross'], inplace=True)\n",
    "merged_movies = merged_movies.dropna(subset=['movie_box_office_revenue'])"
   ]
  }
 ],
 "metadata": {
  "kernelspec": {
   "display_name": "mnlp",
   "language": "python",
   "name": "python3"
  },
  "language_info": {
   "codemirror_mode": {
    "name": "ipython",
    "version": 3
   },
   "file_extension": ".py",
   "mimetype": "text/x-python",
   "name": "python",
   "nbconvert_exporter": "python",
   "pygments_lexer": "ipython3",
   "version": "3.10.13"
  }
 },
 "nbformat": 4,
 "nbformat_minor": 2
}
